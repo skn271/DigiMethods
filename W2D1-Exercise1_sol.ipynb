{
 "cells": [
  {
   "cell_type": "markdown",
   "metadata": {},
   "source": [
    "# Exercise 1: Basic Python 1\n",
    "Builds on exercises provided with Programming with Python for Social Science by Phillip Brooker and from Social Data Science 2019 by Andreas Bjerre-Nielson\n",
    "\n",
    "## 1.1 DATA TYPES\n",
    "**QUESTION 1.1.1**"
   ]
  },
  {
   "cell_type": "code",
   "execution_count": 16,
   "metadata": {},
   "outputs": [],
   "source": [
    "#an integer is a \"whole number\" (i.e. one with no decimal point)\n",
    "my_integer = 14\n",
    "\n",
    "#a float is a numerical value with a decimal point\n",
    "my_float = 11.1\n",
    "\n",
    "#a string is text\n",
    "my_string = \"This is my string.\"\n"
   ]
  },
  {
   "cell_type": "markdown",
   "metadata": {},
   "source": [
    "What type of variables do you think the following five are? "
   ]
  },
  {
   "cell_type": "code",
   "execution_count": 17,
   "metadata": {},
   "outputs": [],
   "source": [
    "var1 = \"0.1\"\n",
    "\n",
    "var2 = 5 - 9\n",
    "\n",
    "var3 = 10 + 10.1\n",
    "\n",
    "var4 = \"10 + 10.1\"\n",
    "\n",
    "var5 = 10.1 - 0.1"
   ]
  },
  {
   "cell_type": "code",
   "execution_count": 18,
   "metadata": {},
   "outputs": [],
   "source": [
    "#Answer to question 1.1.1"
   ]
  },
  {
   "cell_type": "markdown",
   "metadata": {},
   "source": [
    "***Answers in text***\n",
    "\n",
    "- var1 is a string, because it is in quotation marks\n",
    "\n",
    "- var2 is an integer, because it is two whole numbers being subtracted\n",
    "\n",
    "- var3 is a float, because a float is being added to an integer\n",
    "\n",
    "- var4 is a string, because the numbers are in quotation marks\n",
    "\n",
    "- var5 is a float, because two floats are being subtracted\n"
   ]
  },
  {
   "cell_type": "code",
   "execution_count": 19,
   "metadata": {},
   "outputs": [
    {
     "name": "stdout",
     "output_type": "stream",
     "text": [
      "<class 'str'>\n",
      "<class 'int'>\n",
      "<class 'float'>\n",
      "<class 'str'>\n",
      "<class 'float'>\n"
     ]
    }
   ],
   "source": [
    "#checking answers\n",
    "print(type(var1))\n",
    "print(type(var2))\n",
    "print(type(var3))\n",
    "print(type(var4))\n",
    "print(type(var5))"
   ]
  },
  {
   "cell_type": "markdown",
   "metadata": {},
   "source": [
    "## 1.2 Basic Operations"
   ]
  },
  {
   "cell_type": "markdown",
   "metadata": {},
   "source": [
    "**Question 1.2.1**: Variables can be reassigned and overwritten."
   ]
  },
  {
   "cell_type": "code",
   "execution_count": 20,
   "metadata": {},
   "outputs": [],
   "source": [
    "original_var = 20\n",
    "new_var = original_var + 10\n",
    "\n",
    "original_var2 = 5\n",
    "original_var2 = original_var2 + 5"
   ]
  },
  {
   "cell_type": "markdown",
   "metadata": {},
   "source": [
    "Can you guess the values for new_var and original_var2?\n"
   ]
  },
  {
   "cell_type": "code",
   "execution_count": 21,
   "metadata": {},
   "outputs": [],
   "source": [
    "#Answer to question 1.2.1"
   ]
  },
  {
   "cell_type": "code",
   "execution_count": 22,
   "metadata": {},
   "outputs": [
    {
     "name": "stdout",
     "output_type": "stream",
     "text": [
      "30\n",
      "10\n"
     ]
    }
   ],
   "source": [
    "#answers \n",
    "#new_var = 30\n",
    "#original_var2 = 10\n",
    "\n",
    "#checking answers\n",
    "print(new_var)\n",
    "print(original_var2)"
   ]
  },
  {
   "cell_type": "markdown",
   "metadata": {},
   "source": [
    "**Question 1.2.2**: Can you guess what string1 will contain?"
   ]
  },
  {
   "cell_type": "code",
   "execution_count": 23,
   "metadata": {},
   "outputs": [],
   "source": [
    "string1 = \"This is the first part of the string.\"\n",
    "string1 = string1 + \" This is the second part of the string.\""
   ]
  },
  {
   "cell_type": "code",
   "execution_count": 24,
   "metadata": {},
   "outputs": [],
   "source": [
    "#Answer to Question 1.2.2"
   ]
  },
  {
   "cell_type": "code",
   "execution_count": 25,
   "metadata": {},
   "outputs": [
    {
     "name": "stdout",
     "output_type": "stream",
     "text": [
      "This is the first part of the string. This is the second part of the string.\n"
     ]
    }
   ],
   "source": [
    "#Answer to question\n",
    "#The string will contain \"This is the first part of the string. This is the second part of the string.\"\n",
    "#Addition of strings concatenates them, adds one after the other\n",
    "\n",
    "#Checking answer\n",
    "print(string1)"
   ]
  },
  {
   "cell_type": "markdown",
   "metadata": {},
   "source": [
    "**Question 1.2.3**: Try adding these two variables together, and explain what happens."
   ]
  },
  {
   "cell_type": "code",
   "execution_count": 26,
   "metadata": {},
   "outputs": [],
   "source": [
    "first_bit = 14\n",
    "second_bit = \"14\"\n"
   ]
  },
  {
   "cell_type": "code",
   "execution_count": 27,
   "metadata": {},
   "outputs": [],
   "source": [
    "# Answer to Question 1.2.3"
   ]
  },
  {
   "cell_type": "code",
   "execution_count": 28,
   "metadata": {},
   "outputs": [
    {
     "ename": "TypeError",
     "evalue": "unsupported operand type(s) for +: 'int' and 'str'",
     "output_type": "error",
     "traceback": [
      "\u001b[1;31m---------------------------------------------------------------------------\u001b[0m",
      "\u001b[1;31mTypeError\u001b[0m                                 Traceback (most recent call last)",
      "\u001b[1;32m<ipython-input-28-897fea6afe63>\u001b[0m in \u001b[0;36m<module>\u001b[1;34m\u001b[0m\n\u001b[0;32m      1\u001b[0m \u001b[1;31m#adding variables\u001b[0m\u001b[1;33m\u001b[0m\u001b[1;33m\u001b[0m\u001b[1;33m\u001b[0m\u001b[0m\n\u001b[1;32m----> 2\u001b[1;33m \u001b[0mfirst_bit\u001b[0m \u001b[1;33m+\u001b[0m \u001b[0msecond_bit\u001b[0m\u001b[1;33m\u001b[0m\u001b[1;33m\u001b[0m\u001b[0m\n\u001b[0m",
      "\u001b[1;31mTypeError\u001b[0m: unsupported operand type(s) for +: 'int' and 'str'"
     ]
    }
   ],
   "source": [
    "#adding variables\n",
    "first_bit + second_bit"
   ]
  },
  {
   "cell_type": "markdown",
   "metadata": {},
   "source": [
    "- This causes an error because the two variable types are incompatible and can't be added together"
   ]
  },
  {
   "cell_type": "markdown",
   "metadata": {},
   "source": [
    "**Question 1.2.4**\n",
    "\n",
    "We can also convert variable types to different variable types, as follows:\n",
    "\n",
    "To 'stringify' something, we can use str(VARIABLE). Below, I'll declare a variable which is an integer, then I'll use str(VARIABLE) to write the 'stringified' version to a new variable."
   ]
  },
  {
   "cell_type": "code",
   "execution_count": 29,
   "metadata": {},
   "outputs": [],
   "source": [
    "my_integer_variable = 30\n",
    "my_stringified_variable = str(my_integer_variable)"
   ]
  },
  {
   "cell_type": "markdown",
   "metadata": {},
   "source": [
    "To 'integerify' something, we can use int(VARIABLE). Below, I'll declare a\n",
    "variable which is a number written out as a string, then I'll use\n",
    "int(VARIABLE) to write the 'integerified' version to a new variable."
   ]
  },
  {
   "cell_type": "code",
   "execution_count": 30,
   "metadata": {},
   "outputs": [],
   "source": [
    "my_string_variable = \"30\"\n",
    "my_integerified_variable = int(my_string_variable)"
   ]
  },
  {
   "cell_type": "markdown",
   "metadata": {},
   "source": [
    "To 'floatify' an integer, we can use float(VARIABLE). Below, declare an\n",
    "integer variable, then use float(VARIABLE) to write the 'floatified'\n",
    "version to a new variable: "
   ]
  },
  {
   "cell_type": "code",
   "execution_count": 31,
   "metadata": {},
   "outputs": [],
   "source": [
    "# Answer to Question 1.2.4"
   ]
  },
  {
   "cell_type": "code",
   "execution_count": 32,
   "metadata": {},
   "outputs": [],
   "source": [
    "#declaring an integer variable\n",
    "my_int = 16\n",
    "\n",
    "#floatified version\n",
    "floatified = float(my_int)"
   ]
  },
  {
   "cell_type": "markdown",
   "metadata": {},
   "source": [
    "**Question 1.2.5**: Division in Python has two ways of usage. What is the output of `5/2`?  What is the output of `5//2`? What is the fundamental data type for each of the two operations? Explain your results."
   ]
  },
  {
   "cell_type": "code",
   "execution_count": 33,
   "metadata": {},
   "outputs": [],
   "source": [
    "# Answer to Question 1.2.5"
   ]
  },
  {
   "cell_type": "code",
   "execution_count": 34,
   "metadata": {},
   "outputs": [
    {
     "name": "stdout",
     "output_type": "stream",
     "text": [
      "2.5\n",
      "<class 'float'>\n",
      "2\n",
      "<class 'int'>\n"
     ]
    }
   ],
   "source": [
    "print(5/2)\n",
    "print(type(5/2))\n",
    "print(5//2)\n",
    "print(type(5//2))"
   ]
  },
  {
   "cell_type": "markdown",
   "metadata": {},
   "source": [
    "- The operator / is a normal division, where the result can create a rational number (i.e. a float)\n",
    "- The operator // makes a floor division, only producing whole numbers (i.e. integers). These are always rounded down. "
   ]
  },
  {
   "cell_type": "markdown",
   "metadata": {},
   "source": [
    "**Question 1.2.6**: What is the output of `5%2` and `5**2`? Explain your answers."
   ]
  },
  {
   "cell_type": "code",
   "execution_count": 35,
   "metadata": {},
   "outputs": [],
   "source": [
    "# Answer to Question 1.2.6"
   ]
  },
  {
   "cell_type": "code",
   "execution_count": 36,
   "metadata": {},
   "outputs": [
    {
     "name": "stdout",
     "output_type": "stream",
     "text": [
      "1\n",
      "25\n"
     ]
    }
   ],
   "source": [
    "print(5%2)\n",
    "print(5**2)"
   ]
  },
  {
   "cell_type": "markdown",
   "metadata": {},
   "source": [
    "- % is the modulus operator, which outputs the remainder of an integer division\n",
    "- ** is the exponential function, so `5**2` is 5 to the power of 2"
   ]
  },
  {
   "cell_type": "markdown",
   "metadata": {},
   "source": [
    "**Question 1.2.7**: Use expressions <, >, ==, != to compare 4 to 6 (e.g. run 4<6). What are the input data types? What are the output data types?"
   ]
  },
  {
   "cell_type": "code",
   "execution_count": 37,
   "metadata": {},
   "outputs": [],
   "source": [
    "# Answer to Question 1.2.7"
   ]
  },
  {
   "cell_type": "code",
   "execution_count": 38,
   "metadata": {},
   "outputs": [
    {
     "name": "stdout",
     "output_type": "stream",
     "text": [
      "True\n",
      "False\n",
      "False\n",
      "True\n"
     ]
    }
   ],
   "source": [
    "print(4<6)\n",
    "print(4==6)\n",
    "print(4>6)\n",
    "print(4!=6)"
   ]
  },
  {
   "cell_type": "markdown",
   "metadata": {},
   "source": [
    "- The output of comparison operators is always a Boolean value (i.e. True or False)"
   ]
  },
  {
   "cell_type": "markdown",
   "metadata": {},
   "source": [
    "## 1.3 String Operations"
   ]
  },
  {
   "cell_type": "markdown",
   "metadata": {},
   "source": [
    "Strings have multiple operations and functions associated. In this exercise we investigate a few of these. \n",
    "\n",
    "**Question 1.3.1**: Create variables s1='Chameleon' and s2='ham'. Check whether the string s2 is a substring of s1. \n",
    "\n",
    "*Hint: One string operation is to check whether a string S contains a substring T, this can be done with the in \n",
    "operator: S in T.*"
   ]
  },
  {
   "cell_type": "code",
   "execution_count": 39,
   "metadata": {},
   "outputs": [],
   "source": [
    "# Answer to Question 1.3.1 "
   ]
  },
  {
   "cell_type": "code",
   "execution_count": 40,
   "metadata": {},
   "outputs": [
    {
     "data": {
      "text/plain": [
       "True"
      ]
     },
     "execution_count": 40,
     "metadata": {},
     "output_type": "execute_result"
    }
   ],
   "source": [
    "#Creating variables s1 and s2\n",
    "s1 = \"Chameleon\"\n",
    "s2 = \"ham\"\n",
    "\n",
    "#Checking if s2 is a substring of s1\n",
    "s2 in s1"
   ]
  },
  {
   "cell_type": "markdown",
   "metadata": {},
   "source": [
    "**Question 1.3.2**: Make a variable s3 that is the same as s1 but all upper case, then check again whether s2 is a substring of of s3. Explain your answer. \n",
    "\n",
    "*Hint: Remember that strings have methods like upper(), lower(), and capitalize()* "
   ]
  },
  {
   "cell_type": "code",
   "execution_count": 41,
   "metadata": {},
   "outputs": [],
   "source": [
    "# Answer to Question 1.3.2"
   ]
  },
  {
   "cell_type": "code",
   "execution_count": 42,
   "metadata": {},
   "outputs": [
    {
     "data": {
      "text/plain": [
       "False"
      ]
     },
     "execution_count": 42,
     "metadata": {},
     "output_type": "execute_result"
    }
   ],
   "source": [
    "#Creating variable s3\n",
    "s3 = s1.upper()\n",
    "\n",
    "#Checking if s2 is a substring of s1\n",
    "s2 in s3"
   ]
  },
  {
   "cell_type": "markdown",
   "metadata": {},
   "source": [
    "- s3 is now uppercase (i.e. CHAMELEON) and string comparisons are case sensitive, so s3 is not a substring of s1"
   ]
  },
  {
   "cell_type": "markdown",
   "metadata": {},
   "source": [
    "## 1.4 Control logic (if statements)\n",
    "\n",
    "**Question 1.4.1**: Imagine that we have a car that can fit 5 passengers, and we want to know, if the car can fit more passengers. Using 'if' and 'else', make a piece of code that prints out \"The car is full\" if passengers (taken as input) is 5 or more, and \"The car is not full yet\" if passengers are less than 5.\n",
    "\n",
    "Note: Multiple conditions can be inserted with elif statement(s):"
   ]
  },
  {
   "cell_type": "code",
   "execution_count": 43,
   "metadata": {},
   "outputs": [
    {
     "name": "stdout",
     "output_type": "stream",
     "text": [
      "How many passengers are in the car? 5\n",
      "The car is full\n"
     ]
    }
   ],
   "source": [
    "#Read how many passengers are in the car\n",
    "#input takes in a string and converts it to an integer\n",
    "#will cause an error if an integer is not input\n",
    "passengers = int(input (\"How many passengers are in the car? \"))\n",
    "\n",
    "#Answer to Question 1.4.1\n",
    "if passengers >=5:\n",
    "    print(\"The car is full\")\n",
    "else: \n",
    "    print(\"The car is not full yet\")"
   ]
  },
  {
   "cell_type": "markdown",
   "metadata": {},
   "source": [
    "**Question 1.4.2**: Create a program which produces statements about numbers that you give it, with the following conditions:\n",
    "- if the number is over 100 print \"Phew, that's a big number.\"\n",
    "- if the number is even, print \"This one is even.\"\n",
    "- if the number is even and over 100 print \"Stop. I can't even.\"\n",
    "- if the number doesn't satisfy any of these conditions, print the number."
   ]
  },
  {
   "cell_type": "code",
   "execution_count": 44,
   "metadata": {},
   "outputs": [
    {
     "name": "stdout",
     "output_type": "stream",
     "text": [
      "This one is even.\n"
     ]
    }
   ],
   "source": [
    "#Answer to Question 1.4.2\n",
    "\n",
    "#Check the program with a few values to see if it gives the results you expect.\n",
    "\n",
    "my_num = 90\n",
    "\n",
    "if my_num > 100 and my_num%2 == 0:\n",
    "    print(\"Stop. I can't even.\")\n",
    "#if the above if is false, then the number is either less than 100 \n",
    "#or uneven (or both)\n",
    "elif my_num > 100:\n",
    "    print(\"Phew, that's a big number.\")\n",
    "elif my_num%2 == 0:\n",
    "    print(\"This one is even.\")\n",
    "else: \n",
    "    print(my_num)"
   ]
  },
  {
   "cell_type": "markdown",
   "metadata": {},
   "source": [
    "**Question 1.4.3**: Choose an everyday activity (like making tea). Write a script workflow for that activity."
   ]
  },
  {
   "cell_type": "markdown",
   "metadata": {},
   "source": [
    "*Answer to Question 1.4.3. here. \n",
    "Note that this cell is in Markdown mode rather than Code mode, so you can write your answer as text.* \n",
    "\n",
    "# Activity: Eating Lunch\n",
    "\n",
    "1-Is it lunch time?\n",
    "\n",
    "    if no, keep doing work! Wait 30 minutes then return to step 1. \n",
    "\n",
    "    if yes, continue to the next step\n",
    "\n",
    "2-Are you hungry?\n",
    "\n",
    "    if no, keep doing work! Wait 30 minutes then return to step 1. \n",
    "    \n",
    "    if yes, continue to the next step\n",
    "\n",
    "3-Did you bring lunch?\n",
    "\n",
    "    if yes, proceed to step 6\n",
    "    \n",
    "    if no, continue to the next step\n",
    "\n",
    "4-Go to the canteen\n",
    "\n",
    "5-Buy lunch\n",
    "\n",
    "6-Find people to eat lunch with\n",
    "\n",
    "7-Eat lunch\n",
    "\n",
    "8-Wait until tomorrow, then return to step 1\n",
    "    "
   ]
  },
  {
   "cell_type": "markdown",
   "metadata": {},
   "source": [
    "## 1.5 Reflection\n",
    "**Question 1.5.1**: Write a brief paragraph reflecting on your experience learning basic programming operations and logic structures. What did you struggle with? What did you enjoy? What surprised you?\n",
    "    *Note: We will ask you in the assignments to submit a summary of your reflections*"
   ]
  },
  {
   "cell_type": "markdown",
   "metadata": {},
   "source": [
    "*Answer to Question 1.5.1*\n",
    "\n",
    "Congrats on finishing the exercises! <img src=\"./octocat.png\" />"
   ]
  }
 ],
 "metadata": {
  "kernelspec": {
   "display_name": "Python 3",
   "language": "python",
   "name": "python3"
  },
  "language_info": {
   "codemirror_mode": {
    "name": "ipython",
    "version": 3
   },
   "file_extension": ".py",
   "mimetype": "text/x-python",
   "name": "python",
   "nbconvert_exporter": "python",
   "pygments_lexer": "ipython3",
   "version": "3.7.4"
  }
 },
 "nbformat": 4,
 "nbformat_minor": 2
}
