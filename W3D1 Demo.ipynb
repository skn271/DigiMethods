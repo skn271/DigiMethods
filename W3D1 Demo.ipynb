{
 "cells": [
  {
   "cell_type": "code",
   "execution_count": 2,
   "metadata": {},
   "outputs": [],
   "source": [
    "#New function average that calculates the average of \n",
    "#a list of numbers\n",
    "def average (a_list):\n",
    "    avg = 0\n",
    "    \n",
    "    #loop through elements and add them\n",
    "    for element in a_list: \n",
    "        avg += element\n",
    "    \n",
    "    #return the sum divided by the length of the list, e.g. number of elements\n",
    "    return (avg / len(a_list))\n",
    "     "
   ]
  },
  {
   "cell_type": "code",
   "execution_count": 4,
   "metadata": {},
   "outputs": [
    {
     "name": "stdout",
     "output_type": "stream",
     "text": [
      "4362.975\n"
     ]
    }
   ],
   "source": [
    "#Data from https://www.statbank.dk/10021\n",
    "DK_population =[2447,2477,2506,2532,2560,2589,2621,2652,2687,2722,\n",
    "                2757,2788,2820,2851,2886,2921,2958,2991,3027,3061,\n",
    "                3265,3306,3340,3372,3406,3439,3467,3487,3510,3531,\n",
    "                3557,3590,3620,3651,3683,3711,3738,3765,3794,3826,\n",
    "                3849,3882,3926,3973,4023,4075,4123,4168,4211,4252,\n",
    "                4285,4315,4349,4389,4424,4454,4479,4501,4532,4566,\n",
    "                4601,4630,4666,4703,4741,4779,4820,4855,4879,4907,\n",
    "                4951,4976,5008,5036,5054,5065,5080,5097,5112,5122,\n",
    "                5124,5119,5116,5112,5111,5116,5125,5129,5130,5135,\n",
    "                5146,5162,5181,5197,5216,5251,5275,5295,5314,5330,\n",
    "                5349,5368,5384,5398,5411,5427,5447,5476,5511,5535,\n",
    "                5561,5581,5603,5627,5660,5707,5749,5781,5806,5823]\n",
    "\n",
    "print(average(DK_population))"
   ]
  },
  {
   "cell_type": "code",
   "execution_count": 3,
   "metadata": {},
   "outputs": [
    {
     "name": "stdout",
     "output_type": "stream",
     "text": [
      "6.75\n",
      "5.475\n"
     ]
    }
   ],
   "source": [
    "#list of integers\n",
    "int_list = [5,3,8,11]\n",
    "float_list = [3.6, 8.8, 1.3, 8.2]\n",
    "\n",
    "#calculate average\n",
    "my_average1 = average(int_list)\n",
    "my_average2 = average(float_list)\n",
    "\n",
    "#print average\n",
    "print(my_average1)\n",
    "print(my_average2)\n"
   ]
  },
  {
   "cell_type": "code",
   "execution_count": 4,
   "metadata": {},
   "outputs": [],
   "source": [
    "#Testing average function with a different list\n",
    "mixed_list = ['1.3','a',3,9]\n",
    "#my_average3 = average(mixed_list)\n",
    "#print(my_average3)"
   ]
  },
  {
   "cell_type": "code",
   "execution_count": 5,
   "metadata": {},
   "outputs": [],
   "source": [
    "#all the above are tests of our function 'average'. \n",
    "#we learned that there are problems if 'average' gets a list that includes \n",
    "#elements that are not strings\n",
    "#making a new function better_average that includes error handling\n",
    "\n",
    "def better_average(a_list): \n",
    "    avg = 0\n",
    "    \n",
    "    for element in a_list:\n",
    "        try:\n",
    "            value = float(element)\n",
    "            avg += value\n",
    "        except ValueError: \n",
    "            print(\"This list includes elements that are not numbers. An average cannot be calculated.\")\n",
    "            return None \n",
    "        \n",
    "    return (avg / len(a_list))       "
   ]
  },
  {
   "cell_type": "code",
   "execution_count": 6,
   "metadata": {},
   "outputs": [
    {
     "name": "stdout",
     "output_type": "stream",
     "text": [
      "This list includes elements that are not numbers. An average cannot be calculated.\n",
      "6.75\n",
      "5.475\n",
      "None\n"
     ]
    }
   ],
   "source": [
    "#Testing average function with our previously declared list\n",
    "b_avg_var1 = better_average(int_list)\n",
    "b_avg_var2 = better_average(float_list)\n",
    "b_avg_var3 = better_average(mixed_list)\n",
    "print(b_avg_var1)\n",
    "print(b_avg_var2)\n",
    "print(b_avg_var3)"
   ]
  },
  {
   "cell_type": "code",
   "execution_count": 7,
   "metadata": {},
   "outputs": [],
   "source": [
    "#Opening a file\n",
    "f = open('course_description.txt', 'r')"
   ]
  },
  {
   "cell_type": "code",
   "execution_count": 8,
   "metadata": {},
   "outputs": [],
   "source": [
    "#reading the first line of the file\n",
    "first_string = f.readline()"
   ]
  },
  {
   "cell_type": "code",
   "execution_count": 9,
   "metadata": {},
   "outputs": [
    {
     "name": "stdout",
     "output_type": "stream",
     "text": [
      "The rise of new types of digital data and the varieties of social life taking place on social media platforms enable new relations between quantitative and qualitative methods of inquiry and analysis. How such new complementarities are best exploited for social-scientific and practical purposes will be the focus of this course.\n",
      "\n"
     ]
    }
   ],
   "source": [
    "#printing to see what the first line is\n",
    "print(first_string)"
   ]
  },
  {
   "cell_type": "code",
   "execution_count": 10,
   "metadata": {},
   "outputs": [
    {
     "data": {
      "text/plain": [
       "29"
      ]
     },
     "execution_count": 10,
     "metadata": {},
     "output_type": "execute_result"
    }
   ],
   "source": [
    "#Opening a file to write\n",
    "#Note: If this file already exists, it will be overwritten\n",
    "f2 = open('new_file.txt', 'w')\n",
    "\n",
    "#Writing to the file\n",
    "f2.write(\"I’m writing to my first file!\")"
   ]
  },
  {
   "cell_type": "code",
   "execution_count": 11,
   "metadata": {},
   "outputs": [],
   "source": [
    "#Closing all our files\n",
    "f.close()\n",
    "f2.close()"
   ]
  },
  {
   "cell_type": "code",
   "execution_count": 12,
   "metadata": {},
   "outputs": [
    {
     "name": "stdout",
     "output_type": "stream",
     "text": [
      ".ipynb_checkpoints\n",
      "course_description.txt\n",
      "desktop.ini\n",
      "Digital Methods - W3D1 - Data 1.gdoc\n",
      "Digital Methods - W3D1 - Data 1.gslides\n",
      "new_file.txt\n",
      "sodas_people.txt\n",
      "sodas_people.txt_emails.txt\n",
      "W3D1 Demo.ipynb\n"
     ]
    }
   ],
   "source": [
    "#Importing our first library\n",
    "import os\n",
    "\n",
    "#looping through all of the files in the current directory\n",
    "for filename in os.listdir('.'):\n",
    "    #printing the files\n",
    "    print(filename)"
   ]
  },
  {
   "cell_type": "code",
   "execution_count": 14,
   "metadata": {},
   "outputs": [
    {
     "name": "stdout",
     "output_type": "stream",
     "text": [
      "<re.Match object; span=(0, 29), match='samantha.breslin@anthro.ku.dk'>\n",
      "None\n"
     ]
    }
   ],
   "source": [
    "import re\n",
    "#our regular expression pattern for an email\n",
    "email_pattern = '(\\S+@\\S+\\.(\\w){2,3})'\n",
    "\n",
    "#Our test cases\n",
    "print(re.search(email_pattern, 'samantha.breslin@anthro.ku.dk'))\n",
    "print(re.search(email_pattern, 'I\\'ll be @ work'))"
   ]
  },
  {
   "cell_type": "code",
   "execution_count": 3,
   "metadata": {},
   "outputs": [],
   "source": [
    "#Creating a function that finds the emails in a file\n",
    "#Takes a filename as input\n",
    "def read_emails(filename):\n",
    "    #import regular expressions\n",
    "    import re\n",
    "\n",
    "    #our regular expression pattern for an email\n",
    "    email_pattern = '(\\S+@\\S+\\.(\\w){2,3})'\n",
    "\n",
    "    #Opening file\n",
    "    file = open(filename,'r')\n",
    "    #Create empty list to store emails\n",
    "    emails = []\n",
    "\n",
    "    #loop through each line in the file\n",
    "    for line in file:\n",
    "        #try to search for an email\n",
    "        temp_email = re.search(email_pattern, line)\n",
    "        \n",
    "        #If an email was found, add it to the list\n",
    "        if temp_email: \n",
    "            emails.append(temp_email.group())\n",
    "\n",
    "    #Close the file, since we're done with it\n",
    "    file.close()\n",
    "    \n",
    "    #removing the file extension\n",
    "    short_name = filename.split('.')[0]\n",
    "    print(short_name)\n",
    "    \n",
    "    #Create a new file for the email names\n",
    "    email_file = open(short_name +'_emails.txt', 'w')\n",
    "\n",
    "    #go through each email in the list and write the email to the new file\n",
    "    for element in emails:\n",
    "        email_file.write(element + '\\n')\n",
    "\n",
    "    #Close the new file with all the emails\n",
    "    email_file.close()\n"
   ]
  },
  {
   "cell_type": "code",
   "execution_count": 4,
   "metadata": {},
   "outputs": [
    {
     "name": "stdout",
     "output_type": "stream",
     "text": [
      "sodas_people\n"
     ]
    }
   ],
   "source": [
    "#Testing our function\n",
    "read_emails('sodas_people.txt')"
   ]
  },
  {
   "cell_type": "code",
   "execution_count": null,
   "metadata": {},
   "outputs": [],
   "source": []
  }
 ],
 "metadata": {
  "kernelspec": {
   "display_name": "Python 3",
   "language": "python",
   "name": "python3"
  },
  "language_info": {
   "codemirror_mode": {
    "name": "ipython",
    "version": 3
   },
   "file_extension": ".py",
   "mimetype": "text/x-python",
   "name": "python",
   "nbconvert_exporter": "python",
   "pygments_lexer": "ipython3",
   "version": "3.7.4"
  }
 },
 "nbformat": 4,
 "nbformat_minor": 2
}
