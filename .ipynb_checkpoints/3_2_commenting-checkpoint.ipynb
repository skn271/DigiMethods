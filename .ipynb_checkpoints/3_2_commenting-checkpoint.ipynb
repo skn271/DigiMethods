{
 "cells": [
  {
   "cell_type": "code",
   "execution_count": null,
   "metadata": {},
   "outputs": [],
   "source": [
    "# A Jupyter notebook based on Phillip Brooker's commenting script"
   ]
  },
  {
   "cell_type": "code",
   "execution_count": null,
   "metadata": {},
   "outputs": [],
   "source": [
    "\"\"\"\n",
    "Programming with Python for Social Science\n",
    "Phillip Brooker\n",
    "\n",
    "3. 2. COMMENTING\n",
    "\"\"\""
   ]
  },
  {
   "cell_type": "code",
   "execution_count": null,
   "metadata": {},
   "outputs": [],
   "source": [
    "#In this script you can see two types of comment. Some comments, like those\n",
    "#at the top of this page, are denoted by the use of three speech marks.\n",
    "#There, you can see that there are three speech marks to 'open' the comment,\n",
    "#then there is the comment itself, and then three speech marks to 'close' the\n",
    "#comment. Whatever is between the two sets of speech marks is a comment.\n",
    "\n",
    "#However, you can also see that comments can be denoted by putting a hash at\n",
    "#the start of the comment - this is what you can see in this line for instance."
   ]
  },
  {
   "cell_type": "code",
   "execution_count": null,
   "metadata": {},
   "outputs": [],
   "source": [
    "#Tilføjelse"
   ]
  }
 ],
 "metadata": {
  "kernelspec": {
   "display_name": "Python 3",
   "language": "python",
   "name": "python3"
  },
  "language_info": {
   "codemirror_mode": {
    "name": "ipython",
    "version": 3
   },
   "file_extension": ".py",
   "mimetype": "text/x-python",
   "name": "python",
   "nbconvert_exporter": "python",
   "pygments_lexer": "ipython3",
   "version": "3.7.4"
  }
 },
 "nbformat": 4,
 "nbformat_minor": 2
}
